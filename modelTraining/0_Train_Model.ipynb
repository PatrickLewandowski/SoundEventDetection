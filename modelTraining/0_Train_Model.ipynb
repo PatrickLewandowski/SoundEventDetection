{
 "cells": [
  {
   "cell_type": "markdown",
   "metadata": {
    "colab_type": "text",
    "id": "q73_fLRvTQYI"
   },
   "source": [
    "#Train Model"
   ]
  },
  {
   "cell_type": "markdown",
   "metadata": {
    "colab_type": "text",
    "id": "X3PASjCITQC0"
   },
   "source": [
    "This colab demonstrates how to extract the AudioSet embeddings, using a VGGish deep neural network (DNN)."
   ]
  },
  {
   "cell_type": "markdown",
   "metadata": {
    "colab_type": "text",
    "id": "IKSLc0bIB1QS"
   },
   "source": [
    "Based on the directions at: https://github.com/tensorflow/models/tree/master/research/audioset"
   ]
  },
  {
   "cell_type": "code",
   "execution_count": 0,
   "metadata": {
    "colab": {
     "base_uri": "https://localhost:8080/",
     "height": 749
    },
    "colab_type": "code",
    "executionInfo": {
     "elapsed": 3825,
     "status": "ok",
     "timestamp": 1584890892031,
     "user": {
      "displayName": "Patrick Lewandowski",
      "photoUrl": "https://lh4.googleusercontent.com/-TpQl_yrDGdU/AAAAAAAAAAI/AAAAAAAAAlQ/HoAfg_rDDrA/s64/photo.jpg",
      "userId": "01397164172225109514"
     },
     "user_tz": -60
    },
    "id": "228fji9C6c-q",
    "outputId": "59191846-86c2-4ec8-bcd3-1f6448532cf2"
   },
   "outputs": [
    {
     "name": "stdout",
     "output_type": "stream",
     "text": [
      "Architecture:        x86_64\n",
      "CPU op-mode(s):      32-bit, 64-bit\n",
      "Byte Order:          Little Endian\n",
      "CPU(s):              2\n",
      "On-line CPU(s) list: 0,1\n",
      "Thread(s) per core:  2\n",
      "Core(s) per socket:  1\n",
      "Socket(s):           1\n",
      "NUMA node(s):        1\n",
      "Vendor ID:           GenuineIntel\n",
      "CPU family:          6\n",
      "Model:               79\n",
      "Model name:          Intel(R) Xeon(R) CPU @ 2.20GHz\n",
      "Stepping:            0\n",
      "CPU MHz:             2200.000\n",
      "BogoMIPS:            4400.00\n",
      "Hypervisor vendor:   KVM\n",
      "Virtualization type: full\n",
      "L1d cache:           32K\n",
      "L1i cache:           32K\n",
      "L2 cache:            256K\n",
      "L3 cache:            56320K\n",
      "NUMA node0 CPU(s):   0,1\n",
      "Flags:               fpu vme de pse tsc msr pae mce cx8 apic sep mtrr pge mca cmov pat pse36 clflush mmx fxsr sse sse2 ss ht syscall nx pdpe1gb rdtscp lm constant_tsc rep_good nopl xtopology nonstop_tsc cpuid tsc_known_freq pni pclmulqdq ssse3 fma cx16 pcid sse4_1 sse4_2 x2apic movbe popcnt aes xsave avx f16c rdrand hypervisor lahf_lm abm 3dnowprefetch invpcid_single ssbd ibrs ibpb stibp fsgsbase tsc_adjust bmi1 hle avx2 smep bmi2 erms invpcid rtm rdseed adx smap xsaveopt arat md_clear arch_capabilities\n",
      "Sun Mar 22 15:28:10 2020       \n",
      "+-----------------------------------------------------------------------------+\n",
      "| NVIDIA-SMI 440.64.00    Driver Version: 418.67       CUDA Version: 10.1     |\n",
      "|-------------------------------+----------------------+----------------------+\n",
      "| GPU  Name        Persistence-M| Bus-Id        Disp.A | Volatile Uncorr. ECC |\n",
      "| Fan  Temp  Perf  Pwr:Usage/Cap|         Memory-Usage | GPU-Util  Compute M. |\n",
      "|===============================+======================+======================|\n",
      "|   0  Tesla P100-PCIE...  Off  | 00000000:00:04.0 Off |                    0 |\n",
      "| N/A   37C    P0    26W / 250W |      0MiB / 16280MiB |      0%      Default |\n",
      "+-------------------------------+----------------------+----------------------+\n",
      "                                                                               \n",
      "+-----------------------------------------------------------------------------+\n",
      "| Processes:                                                       GPU Memory |\n",
      "|  GPU       PID   Type   Process name                             Usage      |\n",
      "|=============================================================================|\n",
      "|  No running processes found                                                 |\n",
      "+-----------------------------------------------------------------------------+\n"
     ]
    }
   ],
   "source": [
    "!lscpu\n",
    "!nvidia-smi"
   ]
  },
  {
   "cell_type": "code",
   "execution_count": 0,
   "metadata": {
    "colab": {
     "base_uri": "https://localhost:8080/",
     "height": 124
    },
    "colab_type": "code",
    "executionInfo": {
     "elapsed": 30617,
     "status": "ok",
     "timestamp": 1585777391062,
     "user": {
      "displayName": "Patrick Lewandowski",
      "photoUrl": "https://lh4.googleusercontent.com/-TpQl_yrDGdU/AAAAAAAAAAI/AAAAAAAAAlQ/HoAfg_rDDrA/s64/photo.jpg",
      "userId": "01397164172225109514"
     },
     "user_tz": -120
    },
    "id": "xNUdYfA11vGR",
    "outputId": "55837ee7-83d9-4394-f1e8-d5e976a5ec9c"
   },
   "outputs": [
    {
     "name": "stdout",
     "output_type": "stream",
     "text": [
      "Go to this URL in a browser: https://accounts.google.com/o/oauth2/auth?client_id=947318989803-6bn6qk8qdgf4n4g3pfee6491hc0brc4i.apps.googleusercontent.com&redirect_uri=urn%3aietf%3awg%3aoauth%3a2.0%3aoob&response_type=code&scope=email%20https%3a%2f%2fwww.googleapis.com%2fauth%2fdocs.test%20https%3a%2f%2fwww.googleapis.com%2fauth%2fdrive%20https%3a%2f%2fwww.googleapis.com%2fauth%2fdrive.photos.readonly%20https%3a%2f%2fwww.googleapis.com%2fauth%2fpeopleapi.readonly\n",
      "\n",
      "Enter your authorization code:\n",
      "··········\n",
      "Mounted at /content/gdrive\n"
     ]
    }
   ],
   "source": [
    "#Google drive access\n",
    "import os\n",
    "from google.colab import drive\n",
    "drive.mount('/content/gdrive',force_remount = True)\n",
    "\n",
    "#Directory\n",
    "root_path = 'gdrive/My Drive/SoundEventDetection/modelTraining'\n",
    "os.chdir(root_path)"
   ]
  },
  {
   "cell_type": "code",
   "execution_count": 0,
   "metadata": {
    "colab": {},
    "colab_type": "code",
    "id": "O1YVQb-MBiUx"
   },
   "outputs": [],
   "source": [
    "%%capture\n",
    "#Install necessary software\n",
    "!pip install six\n",
    "!pip install h5py\n",
    "!pip install pydub\n",
    "!pip install numpy\n",
    "!pip install scipy\n",
    "!pip install keras\n",
    "!pip install future\n",
    "!pip install resampy\n",
    "!pip install ipython\n",
    "!pip install soundfile\n",
    "!pip install pysoundfile\n",
    "!pip install scikit-learn\n",
    "!apt-get install libsndfile1\n",
    "\n",
    "!pip install python==3.6\n",
    "!pip install matplotlib\n",
    "!pip install cudnn==7.1.2\n",
    "!pip install cudatoolkit==9\n",
    "!pip install tensorflow-gpu==1.12.0\n",
    "\n",
    "#Install: cuda-repo-ubuntu1604-9-0-local_9.0.176-1_amd64-deb\n",
    "!dpkg -i cuda-repo-ubuntu1604-9-0-local_9.0.176-1_amd64-deb\n",
    "!apt-key add /var/cuda-repo-9-0-local/7fa2af80.pub\n",
    "!apt-get update\n",
    "!apt-get install cuda=9.0.176-1\n",
    "#OR\n",
    "#!wget https://developer.nvidia.com/compute/cuda/9.0/Prod/local_installers/cuda-repo-ubuntu1604-9-0-local_9.0.176-1_amd64-deb\n",
    "\n",
    "#VGGish model checkpoint, in TensorFlow checkpoint format.\n",
    "import os \n",
    "os.chdir(\"trained_models\")\n",
    "!wget https://storage.googleapis.com/audioset/vggish_model.ckpt\n",
    "os.chdir(\"..\")"
   ]
  },
  {
   "cell_type": "code",
   "execution_count": 0,
   "metadata": {
    "colab": {},
    "colab_type": "code",
    "id": "jmhLEKk8bxW2"
   },
   "outputs": [],
   "source": [
    "%%capture\n",
    "#Important DO NOT DELETE\n",
    "#import six\n",
    "import sys\n",
    "#import h5py\n",
    "#import math\n",
    "#import glob\n",
    "#import h5py\n",
    "#import time\n",
    "import numpy as np\n",
    "import pandas as pd\n",
    "import soundfile as sf\n",
    "import tensorflow as tf\n",
    "import matplotlib.pyplot as plt\n",
    "#from pydub.playback import play\n",
    "#from pydub import AudioSegment\n",
    "#from scipy.io import wavfile\n",
    "#from scipy.io.wavfile import write\n",
    "\n",
    "sys.path.insert(1, os.path.join(sys.path[0], '../'))\n",
    "\n",
    "#ML imports\n",
    "#from keras.layers import Input, Dense, BatchNormalization, Dropout, Activation, Concatenate\n",
    "from keras.layers import Lambda\n",
    "#from keras.optimizers import Adam\n",
    "from keras.models import load_model\n",
    "from keras.models import Model\n",
    "import keras.backend as K\n",
    "\n",
    "#External .py scripts\n",
    "from lib import mel_features\n",
    "from lib import vggish_input\n",
    "from lib import vggish_params\n",
    "from lib import vggish_postprocess\n",
    "from lib import vggish_slim\n",
    "from lib import utilities\n",
    "from lib import data_generator\n",
    "from lib.train_functions import evaluateCore, trainCore, average_pooling, max_pooling, attention_pooling, pooling_shape, train, writeToFile"
   ]
  },
  {
   "cell_type": "code",
   "execution_count": 0,
   "metadata": {
    "colab": {
     "base_uri": "https://localhost:8080/",
     "height": 610
    },
    "colab_type": "code",
    "executionInfo": {
     "elapsed": 133843,
     "status": "ok",
     "timestamp": 1585779220354,
     "user": {
      "displayName": "Patrick Lewandowski",
      "photoUrl": "https://lh4.googleusercontent.com/-TpQl_yrDGdU/AAAAAAAAAAI/AAAAAAAAAlQ/HoAfg_rDDrA/s64/photo.jpg",
      "userId": "01397164172225109514"
     },
     "user_tz": -120
    },
    "id": "58_Ros7ywCCs",
    "outputId": "64ff3c74-f484-417b-c338-21d33f6cf3e8"
   },
   "outputs": [
    {
     "name": "stdout",
     "output_type": "stream",
     "text": [
      "/content/gdrive/My Drive/SoundEventDetection/modelTraining\n",
      "--2020-04-01 22:11:27--  https://docs.google.com/uc?export=download&confirm=FH1g&id=0B49XSFgf-0yVQk01eG92RHg4WTA\n",
      "Resolving docs.google.com (docs.google.com)... 172.217.5.206, 2607:f8b0:4007:80d::200e\n",
      "Connecting to docs.google.com (docs.google.com)|172.217.5.206|:443... connected.\n",
      "HTTP request sent, awaiting response... 302 Moved Temporarily\n",
      "Location: https://doc-14-4s-docs.googleusercontent.com/docs/securesc/5hghd0s5edaf2sgjtqq3ao09vlonffac/okt7g8d8v6m445hdg1qdretgr6ij33hk/1585779075000/05072233986702819728/08326851818180176792Z/0B49XSFgf-0yVQk01eG92RHg4WTA?e=download [following]\n",
      "--2020-04-01 22:11:27--  https://doc-14-4s-docs.googleusercontent.com/docs/securesc/5hghd0s5edaf2sgjtqq3ao09vlonffac/okt7g8d8v6m445hdg1qdretgr6ij33hk/1585779075000/05072233986702819728/08326851818180176792Z/0B49XSFgf-0yVQk01eG92RHg4WTA?e=download\n",
      "Resolving doc-14-4s-docs.googleusercontent.com (doc-14-4s-docs.googleusercontent.com)... 216.58.217.193, 2607:f8b0:4007:808::2001\n",
      "Connecting to doc-14-4s-docs.googleusercontent.com (doc-14-4s-docs.googleusercontent.com)|216.58.217.193|:443... connected.\n",
      "HTTP request sent, awaiting response... 302 Found\n",
      "Location: https://docs.google.com/nonceSigner?nonce=84askb23594n2&continue=https://doc-14-4s-docs.googleusercontent.com/docs/securesc/5hghd0s5edaf2sgjtqq3ao09vlonffac/okt7g8d8v6m445hdg1qdretgr6ij33hk/1585779075000/05072233986702819728/08326851818180176792Z/0B49XSFgf-0yVQk01eG92RHg4WTA?e%3Ddownload&hash=kbnai3p25v57phido3jr6fvfvmbf32bp [following]\n",
      "--2020-04-01 22:11:28--  https://docs.google.com/nonceSigner?nonce=84askb23594n2&continue=https://doc-14-4s-docs.googleusercontent.com/docs/securesc/5hghd0s5edaf2sgjtqq3ao09vlonffac/okt7g8d8v6m445hdg1qdretgr6ij33hk/1585779075000/05072233986702819728/08326851818180176792Z/0B49XSFgf-0yVQk01eG92RHg4WTA?e%3Ddownload&hash=kbnai3p25v57phido3jr6fvfvmbf32bp\n",
      "Connecting to docs.google.com (docs.google.com)|172.217.5.206|:443... connected.\n",
      "HTTP request sent, awaiting response... 302 Found\n",
      "Location: https://doc-14-4s-docs.googleusercontent.com/docs/securesc/5hghd0s5edaf2sgjtqq3ao09vlonffac/okt7g8d8v6m445hdg1qdretgr6ij33hk/1585779075000/05072233986702819728/08326851818180176792Z/0B49XSFgf-0yVQk01eG92RHg4WTA?e=download&nonce=84askb23594n2&user=08326851818180176792Z&hash=4s97lu7bjh9iaoru6aaqq50g2qddbhul [following]\n",
      "--2020-04-01 22:11:28--  https://doc-14-4s-docs.googleusercontent.com/docs/securesc/5hghd0s5edaf2sgjtqq3ao09vlonffac/okt7g8d8v6m445hdg1qdretgr6ij33hk/1585779075000/05072233986702819728/08326851818180176792Z/0B49XSFgf-0yVQk01eG92RHg4WTA?e=download&nonce=84askb23594n2&user=08326851818180176792Z&hash=4s97lu7bjh9iaoru6aaqq50g2qddbhul\n",
      "Connecting to doc-14-4s-docs.googleusercontent.com (doc-14-4s-docs.googleusercontent.com)|216.58.217.193|:443... connected.\n",
      "HTTP request sent, awaiting response... 200 OK\n",
      "Length: unspecified [application/zip]\n",
      "Saving to: ‘packed_features.zip’\n",
      "\n",
      "packed_features.zip     [              <=>   ]   2.31G  32.9MB/s    in 35s     \n",
      "\n",
      "2020-04-01 22:12:03 (67.4 MB/s) - ‘packed_features.zip’ saved [2478128315]\n",
      "\n",
      "Archive:  packed_features.zip\n",
      "   creating: packed_features/\n",
      "  inflating: packed_features/README  \n",
      "  inflating: packed_features/README~  \n",
      "  inflating: packed_features/bal_train.h5  \n",
      "  inflating: packed_features/eval.h5  \n",
      "  inflating: packed_features/unbal_train.h5  \n",
      "/content/gdrive/My Drive/SoundEventDetection/modelTraining\n"
     ]
    }
   ],
   "source": [
    "#Download dataset\n",
    "!wget --load-cookies /tmp/cookies.txt \"https://docs.google.com/uc?export=download&confirm=$(wget --quiet --save-cookies /tmp/cookies.txt --keep-session-cookies --no-check-certificate 'https://docs.google.com/uc?export=download&id=0B49XSFgf-0yVQk01eG92RHg4WTA' -O- | sed -rn 's/.*confirm=([0-9A-Za-z_]+).*/\\1\\n/p')&id=0B49XSFgf-0yVQk01eG92RHg4WTA\" -O packed_features.zip && rm -rf /tmp/cookies.txt\n",
    "!unzip packed_features.zip"
   ]
  },
  {
   "cell_type": "code",
   "execution_count": 0,
   "metadata": {
    "colab": {},
    "colab_type": "code",
    "id": "QqSGe856SdEv"
   },
   "outputs": [],
   "source": [
    "#Set args\n",
    "args = {\n",
    "  \"data_dir\" : \"packed_features/\",\n",
    "  \"workspace\" : \"workspace/\",\n",
    "  \"mini_data\" : False,\n",
    "  \"balance_type\" : \"balance_in_batch\", #'no_balance', 'balance_in_batch'\n",
    "  \"model_type\" : 'decision_level_single_attention', #'decision_level_max_pooling', 'decision_level_average_pooling', 'decision_level_single_attention', 'decision_level_multi_attention', 'feature_level_attention'\n",
    "  \"learning_rate\" : 1e-3,\n",
    "}\n",
    "\n",
    "args[\"filename\"] = utilities.get_filename(\"work/\")\n",
    "\n",
    "#Logs\n",
    "logs_dir = os.path.join(args[\"workspace\"], 'logs', args[\"filename\"])\n",
    "utilities.create_folder(logs_dir)\n",
    "logging = utilities.create_logging(logs_dir, filemode='w')"
   ]
  },
  {
   "cell_type": "code",
   "execution_count": 0,
   "metadata": {
    "colab": {
     "base_uri": "https://localhost:8080/",
     "height": 729
    },
    "colab_type": "code",
    "id": "HWFcyLrZSd01",
    "outputId": "ae26ad2b-dafc-458c-f765-caace81bfb4b"
   },
   "outputs": [
    {
     "name": "stdout",
     "output_type": "stream",
     "text": [
      "Model: \"model_3\"\n",
      "__________________________________________________________________________________________________\n",
      "Layer (type)                    Output Shape         Param #     Connected to                     \n",
      "==================================================================================================\n",
      "input_3 (InputLayer)            (None, 10, 128)      0                                            \n",
      "__________________________________________________________________________________________________\n",
      "dense_11 (Dense)                (None, 10, 1024)     132096      input_3[0][0]                    \n",
      "__________________________________________________________________________________________________\n",
      "batch_normalization_7 (BatchNor (None, 10, 1024)     4096        dense_11[0][0]                   \n",
      "__________________________________________________________________________________________________\n",
      "activation_7 (Activation)       (None, 10, 1024)     0           batch_normalization_7[0][0]      \n",
      "__________________________________________________________________________________________________\n",
      "dropout_7 (Dropout)             (None, 10, 1024)     0           activation_7[0][0]               \n",
      "__________________________________________________________________________________________________\n",
      "dense_12 (Dense)                (None, 10, 1024)     1049600     dropout_7[0][0]                  \n",
      "__________________________________________________________________________________________________\n",
      "batch_normalization_8 (BatchNor (None, 10, 1024)     4096        dense_12[0][0]                   \n",
      "__________________________________________________________________________________________________\n",
      "activation_8 (Activation)       (None, 10, 1024)     0           batch_normalization_8[0][0]      \n",
      "__________________________________________________________________________________________________\n",
      "dropout_8 (Dropout)             (None, 10, 1024)     0           activation_8[0][0]               \n",
      "__________________________________________________________________________________________________\n",
      "dense_13 (Dense)                (None, 10, 1024)     1049600     dropout_8[0][0]                  \n",
      "__________________________________________________________________________________________________\n",
      "batch_normalization_9 (BatchNor (None, 10, 1024)     4096        dense_13[0][0]                   \n",
      "__________________________________________________________________________________________________\n",
      "activation_9 (Activation)       (None, 10, 1024)     0           batch_normalization_9[0][0]      \n",
      "__________________________________________________________________________________________________\n",
      "dropout_9 (Dropout)             (None, 10, 1024)     0           activation_9[0][0]               \n",
      "__________________________________________________________________________________________________\n",
      "dense_14 (Dense)                (None, 10, 527)      540175      dropout_9[0][0]                  \n",
      "__________________________________________________________________________________________________\n",
      "dense_15 (Dense)                (None, 10, 527)      540175      dropout_9[0][0]                  \n",
      "__________________________________________________________________________________________________\n",
      "lambda_3 (Lambda)               (None, 527)          0           dense_14[0][0]                   \n",
      "                                                                 dense_15[0][0]                   \n",
      "==================================================================================================\n",
      "Total params: 3,323,934\n",
      "Trainable params: 3,317,790\n",
      "Non-trainable params: 6,144\n",
      "__________________________________________________________________________________________________\n"
     ]
    }
   ],
   "source": [
    "#Train Model\n",
    "def trainModel():\n",
    "  if True:\n",
    "      train(args, 0)\n",
    "  else:\n",
    "      args[\"bgn_iteration\"] = 10000\n",
    "      args[\"fin_iteration\"] = 50001\n",
    "      args[\"interval_iteration\"] = 5000\n",
    "      utilities.get_avg_stats(args)\n",
    "\n",
    "trainModel()"
   ]
  },
  {
   "cell_type": "code",
   "execution_count": 0,
   "metadata": {
    "colab": {},
    "colab_type": "code",
    "id": "4z_VLzUEs5cO"
   },
   "outputs": [],
   "source": []
  }
 ],
 "metadata": {
  "accelerator": "GPU",
  "colab": {
   "collapsed_sections": [],
   "name": "0_Train_Model.ipynb",
   "provenance": [
    {
     "file_id": "1QfoFIrIDEYtLfajIyHuyTQ4JRWaXfBjv",
     "timestamp": 1573067916178
    },
    {
     "file_id": "1TbX92UL9sYWbdwdGE0rJ9owmezB-Rl1C",
     "timestamp": 1570546012732
    }
   ]
  },
  "kernelspec": {
   "display_name": "Python 3",
   "language": "python",
   "name": "python3"
  },
  "language_info": {
   "codemirror_mode": {
    "name": "ipython",
    "version": 3
   },
   "file_extension": ".py",
   "mimetype": "text/x-python",
   "name": "python",
   "nbconvert_exporter": "python",
   "pygments_lexer": "ipython3",
   "version": "3.7.6"
  }
 },
 "nbformat": 4,
 "nbformat_minor": 1
}
